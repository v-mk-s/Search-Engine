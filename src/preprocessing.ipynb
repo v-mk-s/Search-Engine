{
 "cells": [
  {
   "cell_type": "code",
   "execution_count": 1,
   "metadata": {
    "colab": {
     "base_uri": "https://localhost:8080/"
    },
    "id": "ABw6iDUWkSTK",
    "outputId": "2a369c69-7575-40c4-cb37-26f80eacaa51"
   },
   "outputs": [
    {
     "name": "stderr",
     "output_type": "stream",
     "text": [
      "[nltk_data] Downloading package punkt to\n",
      "[nltk_data]     /Users/vladislavkruglikov/nltk_data...\n",
      "[nltk_data]   Package punkt is already up-to-date!\n",
      "[nltk_data] Downloading package wordnet to\n",
      "[nltk_data]     /Users/vladislavkruglikov/nltk_data...\n",
      "[nltk_data]   Package wordnet is already up-to-date!\n"
     ]
    },
    {
     "data": {
      "text/plain": [
       "True"
      ]
     },
     "execution_count": 1,
     "metadata": {},
     "output_type": "execute_result"
    }
   ],
   "source": [
    "import nltk\n",
    "\n",
    "nltk.download('punkt')\n",
    "nltk.download('wordnet')"
   ]
  },
  {
   "cell_type": "code",
   "execution_count": 2,
   "metadata": {
    "colab": {
     "base_uri": "https://localhost:8080/",
     "height": 424
    },
    "id": "Yv-Ipap9hXLW",
    "outputId": "8faa26f6-1c74-4533-eb44-082f4573c5f8"
   },
   "outputs": [
    {
     "data": {
      "text/html": [
       "<div>\n",
       "<style scoped>\n",
       "    .dataframe tbody tr th:only-of-type {\n",
       "        vertical-align: middle;\n",
       "    }\n",
       "\n",
       "    .dataframe tbody tr th {\n",
       "        vertical-align: top;\n",
       "    }\n",
       "\n",
       "    .dataframe thead th {\n",
       "        text-align: right;\n",
       "    }\n",
       "</style>\n",
       "<table border=\"1\" class=\"dataframe\">\n",
       "  <thead>\n",
       "    <tr style=\"text-align: right;\">\n",
       "      <th></th>\n",
       "      <th>Id</th>\n",
       "      <th>CreationDate</th>\n",
       "      <th>Score</th>\n",
       "      <th>Title</th>\n",
       "      <th>Body</th>\n",
       "    </tr>\n",
       "  </thead>\n",
       "  <tbody>\n",
       "    <tr>\n",
       "      <th>0</th>\n",
       "      <td>80</td>\n",
       "      <td>2008-08-01T13:57:07Z</td>\n",
       "      <td>26</td>\n",
       "      <td>SQLStatement.execute() - multiple queries in o...</td>\n",
       "      <td>&lt;p&gt;I've written a database generation script i...</td>\n",
       "    </tr>\n",
       "    <tr>\n",
       "      <th>1</th>\n",
       "      <td>90</td>\n",
       "      <td>2008-08-01T14:41:24Z</td>\n",
       "      <td>144</td>\n",
       "      <td>Good branching and merging tutorials for Torto...</td>\n",
       "      <td>&lt;p&gt;Are there any really good tutorials explain...</td>\n",
       "    </tr>\n",
       "    <tr>\n",
       "      <th>2</th>\n",
       "      <td>120</td>\n",
       "      <td>2008-08-01T15:50:08Z</td>\n",
       "      <td>21</td>\n",
       "      <td>ASP.NET Site Maps</td>\n",
       "      <td>&lt;p&gt;Has anyone got experience creating &lt;strong&gt;...</td>\n",
       "    </tr>\n",
       "    <tr>\n",
       "      <th>3</th>\n",
       "      <td>180</td>\n",
       "      <td>2008-08-01T18:42:19Z</td>\n",
       "      <td>53</td>\n",
       "      <td>Function for creating color wheels</td>\n",
       "      <td>&lt;p&gt;This is something I've pseudo-solved many t...</td>\n",
       "    </tr>\n",
       "    <tr>\n",
       "      <th>4</th>\n",
       "      <td>260</td>\n",
       "      <td>2008-08-01T23:22:08Z</td>\n",
       "      <td>49</td>\n",
       "      <td>Adding scripting functionality to .NET applica...</td>\n",
       "      <td>&lt;p&gt;I have a little game written in C#. It uses...</td>\n",
       "    </tr>\n",
       "    <tr>\n",
       "      <th>...</th>\n",
       "      <td>...</td>\n",
       "      <td>...</td>\n",
       "      <td>...</td>\n",
       "      <td>...</td>\n",
       "      <td>...</td>\n",
       "    </tr>\n",
       "    <tr>\n",
       "      <th>995</th>\n",
       "      <td>83260</td>\n",
       "      <td>2008-09-17T13:34:46Z</td>\n",
       "      <td>3</td>\n",
       "      <td>How can I get the unique values of an array in...</td>\n",
       "      <td>&lt;p&gt;Say I've got this array:\\nMyArray(0)=\"aaa\"\\...</td>\n",
       "    </tr>\n",
       "    <tr>\n",
       "      <th>996</th>\n",
       "      <td>83320</td>\n",
       "      <td>2008-09-17T13:40:17Z</td>\n",
       "      <td>13</td>\n",
       "      <td>What is the difference between TrueType fonts ...</td>\n",
       "      <td>&lt;p&gt;What is the difference between TrueType fon...</td>\n",
       "    </tr>\n",
       "    <tr>\n",
       "      <th>997</th>\n",
       "      <td>83410</td>\n",
       "      <td>2008-09-17T13:48:25Z</td>\n",
       "      <td>26</td>\n",
       "      <td>How do I call a SQL Server stored procedure fr...</td>\n",
       "      <td>&lt;p&gt;I have a large CSV file and I want to execu...</td>\n",
       "    </tr>\n",
       "    <tr>\n",
       "      <th>998</th>\n",
       "      <td>83640</td>\n",
       "      <td>2008-09-17T14:09:20Z</td>\n",
       "      <td>3</td>\n",
       "      <td>C++ does begin/end/rbegin/rend execute in cons...</td>\n",
       "      <td>&lt;p&gt;For data types such as std::set and std::ma...</td>\n",
       "    </tr>\n",
       "    <tr>\n",
       "      <th>999</th>\n",
       "      <td>83770</td>\n",
       "      <td>2008-09-17T14:24:21Z</td>\n",
       "      <td>2</td>\n",
       "      <td>Dynamically add CalendarExtender to Textbox su...</td>\n",
       "      <td>&lt;p&gt;I'm trying to create a server control, whic...</td>\n",
       "    </tr>\n",
       "  </tbody>\n",
       "</table>\n",
       "<p>1000 rows × 5 columns</p>\n",
       "</div>"
      ],
      "text/plain": [
       "        Id          CreationDate  Score  \\\n",
       "0       80  2008-08-01T13:57:07Z     26   \n",
       "1       90  2008-08-01T14:41:24Z    144   \n",
       "2      120  2008-08-01T15:50:08Z     21   \n",
       "3      180  2008-08-01T18:42:19Z     53   \n",
       "4      260  2008-08-01T23:22:08Z     49   \n",
       "..     ...                   ...    ...   \n",
       "995  83260  2008-09-17T13:34:46Z      3   \n",
       "996  83320  2008-09-17T13:40:17Z     13   \n",
       "997  83410  2008-09-17T13:48:25Z     26   \n",
       "998  83640  2008-09-17T14:09:20Z      3   \n",
       "999  83770  2008-09-17T14:24:21Z      2   \n",
       "\n",
       "                                                 Title  \\\n",
       "0    SQLStatement.execute() - multiple queries in o...   \n",
       "1    Good branching and merging tutorials for Torto...   \n",
       "2                                    ASP.NET Site Maps   \n",
       "3                   Function for creating color wheels   \n",
       "4    Adding scripting functionality to .NET applica...   \n",
       "..                                                 ...   \n",
       "995  How can I get the unique values of an array in...   \n",
       "996  What is the difference between TrueType fonts ...   \n",
       "997  How do I call a SQL Server stored procedure fr...   \n",
       "998  C++ does begin/end/rbegin/rend execute in cons...   \n",
       "999  Dynamically add CalendarExtender to Textbox su...   \n",
       "\n",
       "                                                  Body  \n",
       "0    <p>I've written a database generation script i...  \n",
       "1    <p>Are there any really good tutorials explain...  \n",
       "2    <p>Has anyone got experience creating <strong>...  \n",
       "3    <p>This is something I've pseudo-solved many t...  \n",
       "4    <p>I have a little game written in C#. It uses...  \n",
       "..                                                 ...  \n",
       "995  <p>Say I've got this array:\\nMyArray(0)=\"aaa\"\\...  \n",
       "996  <p>What is the difference between TrueType fon...  \n",
       "997  <p>I have a large CSV file and I want to execu...  \n",
       "998  <p>For data types such as std::set and std::ma...  \n",
       "999  <p>I'm trying to create a server control, whic...  \n",
       "\n",
       "[1000 rows x 5 columns]"
      ]
     },
     "execution_count": 2,
     "metadata": {},
     "output_type": "execute_result"
    }
   ],
   "source": [
    "import pandas as pd\n",
    "\n",
    "df = pd.read_csv('data/Questions.csv', encoding=\"ISO-8859-1\",\n",
    "                 usecols=['Id', 'Title', 'Body', 'CreationDate', 'Score'])\n",
    "\n",
    "df"
   ]
  },
  {
   "cell_type": "markdown",
   "metadata": {
    "id": "SRopbpn8o6p-"
   },
   "source": [
    "# Remove stopwords"
   ]
  },
  {
   "cell_type": "code",
   "execution_count": 3,
   "metadata": {
    "colab": {
     "base_uri": "https://localhost:8080/"
    },
    "id": "GrDX2y7Ro8Tp",
    "outputId": "75a8623b-ad22-4a4a-9344-6576a7cfc1f6"
   },
   "outputs": [
    {
     "name": "stderr",
     "output_type": "stream",
     "text": [
      "[nltk_data] Downloading package stopwords to\n",
      "[nltk_data]     /Users/vladislavkruglikov/nltk_data...\n",
      "[nltk_data]   Package stopwords is already up-to-date!\n",
      "[nltk_data] Downloading package punkt to\n",
      "[nltk_data]     /Users/vladislavkruglikov/nltk_data...\n",
      "[nltk_data]   Package punkt is already up-to-date!\n"
     ]
    }
   ],
   "source": [
    "from nltk import word_tokenize\n",
    "\n",
    "nltk.download('stopwords')\n",
    "nltk.download(\"punkt\")\n",
    "\n",
    "stopwords = set(nltk.corpus.stopwords.words('english'))\n",
    "\n",
    "def remove_stop_words(text):\n",
    "    text = text.lower()\n",
    "    text_tokens = word_tokenize(text)\n",
    "    tokens_without_sw = [w for w in text_tokens if not w in stopwords and w.isalnum()]\n",
    "    return ' '.join(tokens_without_sw)"
   ]
  },
  {
   "cell_type": "markdown",
   "metadata": {
    "id": "RqiZK7g5pvHB"
   },
   "source": [
    "# Lemmatize"
   ]
  },
  {
   "cell_type": "code",
   "execution_count": 4,
   "metadata": {
    "id": "q803nX9fpyjd"
   },
   "outputs": [],
   "source": [
    "from nltk.stem import WordNetLemmatizer\n",
    "\n",
    "lemmatizer = WordNetLemmatizer()\n",
    "\n",
    "def lemmatize(text):\n",
    "    text = text.lower()\n",
    "    text_tokens = word_tokenize(text)\n",
    "    lemmatized_tokens = [lemmatizer.lemmatize(w) for w in text_tokens]\n",
    "    return ' '.join(lemmatized_tokens)"
   ]
  },
  {
   "cell_type": "markdown",
   "metadata": {
    "id": "aBV4WgYnq9OI"
   },
   "source": [
    "# Title preprocessing"
   ]
  },
  {
   "cell_type": "code",
   "execution_count": 5,
   "metadata": {
    "id": "ckSLsUc2q_W3"
   },
   "outputs": [],
   "source": [
    "title = df['Title']\n",
    "\n",
    "df['Title preprocessed'] = title.apply(remove_stop_words).apply(lemmatize)"
   ]
  },
  {
   "cell_type": "markdown",
   "metadata": {
    "id": "3DMAzQT6r5Yy"
   },
   "source": [
    "# Body preprocessing"
   ]
  },
  {
   "cell_type": "code",
   "execution_count": 6,
   "metadata": {
    "id": "TyUfmT_0r714"
   },
   "outputs": [],
   "source": [
    "import re\n",
    "\n",
    "body = df['Body']\n",
    "\n",
    "def remove_spaces(text):\n",
    "    return ' '.join(text.split())\n",
    "\n",
    "def remove_code(text):\n",
    "    # remove code part\n",
    "    text = re.sub('<pre>.*<\\/pre>', '', text)\n",
    "    # remove tags\n",
    "    text = re.sub('<a.*?>', '', text)\n",
    "    text = re.sub('</a>', '', text)\n",
    "    text = re.sub('<code>', '', text)\n",
    "    text = re.sub('</code>', '', text)\n",
    "    text = re.sub('<p>', '', text)\n",
    "    text = re.sub('</p>', '', text)\n",
    "    return text\n",
    "\n",
    "df['Body preprocessed'] = body.apply(remove_spaces).apply(remove_code).apply(remove_stop_words).apply(lemmatize)"
   ]
  },
  {
   "cell_type": "markdown",
   "metadata": {
    "id": "YCalXEkIyX71"
   },
   "source": [
    "# Fit TF-IDF title vectorizer"
   ]
  },
  {
   "cell_type": "code",
   "execution_count": 7,
   "metadata": {
    "id": "hB03fzWWyacd"
   },
   "outputs": [],
   "source": [
    "from sklearn.feature_extraction.text import TfidfVectorizer\n",
    "\n",
    "import pickle\n",
    "\n",
    "tfidf_title_vectorizer = TfidfVectorizer()\n",
    "\n",
    "title_preprocessed = df['Title preprocessed']\n",
    "\n",
    "tfidf_title_vectorizer.fit(title_preprocessed)\n",
    "\n",
    "pickle.dump(tfidf_title_vectorizer, open('data/tfidf_title_vectorizer.sav', 'wb'))"
   ]
  },
  {
   "cell_type": "markdown",
   "metadata": {
    "id": "MYpNtjg2ykz6"
   },
   "source": [
    "# Extract keywords from TF-IDF title vectorizer"
   ]
  },
  {
   "cell_type": "code",
   "execution_count": 8,
   "metadata": {
    "id": "kKwQ42iJyonC"
   },
   "outputs": [],
   "source": [
    "def get_top_tfidf_words(sentence, tfidf_vectorizer, n=5):\n",
    "    terms = tfidf_vectorizer.get_feature_names()\n",
    "    sums = tfidf_vectorizer.transform([sentence]).sum(axis=0)\n",
    "    data = []\n",
    "    for col, term in enumerate(terms):\n",
    "        if sums[0, col] > 0:\n",
    "            data.append((term, sums[0, col]))\n",
    "    data.sort(key=lambda x: -x[1])\n",
    "    return ' '.join([i[0] for i in data[:n]])\n",
    "\n",
    "df['Title preprocessed top 10 keywords'] = title_preprocessed.apply(lambda text: get_top_tfidf_words(text, tfidf_title_vectorizer, n=5))"
   ]
  },
  {
   "cell_type": "markdown",
   "metadata": {
    "id": "DsLE1ZmQzfWu"
   },
   "source": [
    "# Fit TF-IDF body vectorizer"
   ]
  },
  {
   "cell_type": "code",
   "execution_count": 9,
   "metadata": {
    "id": "nZLzXfx_zhRk"
   },
   "outputs": [],
   "source": [
    "from sklearn.feature_extraction.text import TfidfVectorizer\n",
    "\n",
    "tfidf_body_vectorizer = TfidfVectorizer()\n",
    "\n",
    "body_preprocessed = df['Body preprocessed']\n",
    "\n",
    "tfidf_body_vectorizer.fit(body_preprocessed)\n",
    "\n",
    "pickle.dump(tfidf_body_vectorizer, open('data/tfidf_body_vectorizer.sav', 'wb'))"
   ]
  },
  {
   "cell_type": "markdown",
   "metadata": {
    "id": "v2RtCtarzZ5b"
   },
   "source": [
    "# Extract keywords from TF-IDF body vectorizer"
   ]
  },
  {
   "cell_type": "code",
   "execution_count": 10,
   "metadata": {
    "id": "xpLSIdWtzdDf"
   },
   "outputs": [],
   "source": [
    "df['Body preprocessed top 30 keywords'] = body_preprocessed.apply(lambda text: get_top_tfidf_words(text, tfidf_body_vectorizer, n=30))"
   ]
  },
  {
   "cell_type": "markdown",
   "metadata": {
    "id": "loXMf148GdtB"
   },
   "source": [
    "# Get date score\n",
    "\n",
    "The newest questions have higher score"
   ]
  },
  {
   "cell_type": "code",
   "execution_count": 11,
   "metadata": {
    "id": "RHjDCW3VGdUT"
   },
   "outputs": [],
   "source": [
    "df['timestamp'] = pd.DatetimeIndex(df.CreationDate).asi8\n",
    "\n",
    "date_min = df.timestamp.min()\n",
    "date_max = df.timestamp.max()\n",
    "\n",
    "def date_score(date):\n",
    "    return 1 + (date - date_min) / (date_max - date_min)\n",
    "\n",
    "df['Date score'] = df.timestamp.apply(date_score)"
   ]
  },
  {
   "cell_type": "markdown",
   "metadata": {
    "id": "xKzs008oG8Y8"
   },
   "source": [
    "# Get Vote score"
   ]
  },
  {
   "cell_type": "code",
   "execution_count": 12,
   "metadata": {
    "id": "Pb_5xiGyG-SX"
   },
   "outputs": [],
   "source": [
    "votes = df['Score']\n",
    "\n",
    "votes_min = votes.min()\n",
    "votes_max = votes.max()\n",
    "\n",
    "def votes_score(votes):\n",
    "    return 1 + (votes - votes_min) / (votes_max - votes_min)\n",
    "\n",
    "df['Votes score'] = df['Score'].apply(votes_score)"
   ]
  },
  {
   "cell_type": "markdown",
   "metadata": {
    "id": "AzB0nfem6woQ"
   },
   "source": [
    "# Calculate TF-IDF vectors for title preprocessed top 10 keywords\n",
    "\n",
    "Will use this to calculate distance between query TF-IDF vector and database documents TF-IDF vectors to find the most similar"
   ]
  },
  {
   "cell_type": "code",
   "execution_count": 13,
   "metadata": {
    "id": "2jWdZn2h62oD"
   },
   "outputs": [],
   "source": [
    "import numpy as np\n",
    "\n",
    "from sklearn.metrics.pairwise import cosine_similarity\n",
    "\n",
    "df['Title preprocessed top 10 keywords TF-IDF vector'] = df['Title preprocessed top 10 keywords'].apply(lambda x: tfidf_title_vectorizer.transform([x]))\n",
    "\n",
    "def calculate_distance(vec1, vec2):\n",
    "    cosine_similarities = cosine_similarity(vec1.reshape(1, -1), vec2.reshape(1, -1))\n",
    "    return cosine_similarities[0][0]"
   ]
  },
  {
   "cell_type": "code",
   "execution_count": 14,
   "metadata": {
    "colab": {
     "base_uri": "https://localhost:8080/"
    },
    "id": "q6LUeMcf9CGS",
    "outputId": "90890792-3f06-4dbe-914c-fa1763a85fe4"
   },
   "outputs": [
    {
     "data": {
      "text/plain": [
       "0.7634472276912615"
      ]
     },
     "execution_count": 14,
     "metadata": {},
     "output_type": "execute_result"
    }
   ],
   "source": [
    "# For example\n",
    "\n",
    "query = \"multiple query one sql\"\n",
    "\n",
    "calculate_distance(df['Title preprocessed top 10 keywords TF-IDF vector'][0], tfidf_title_vectorizer.transform([query]))"
   ]
  },
  {
   "cell_type": "markdown",
   "metadata": {
    "id": "Y3JPPD-MEz2B"
   },
   "source": [
    "# Calculate TF-IDF vectors for body preprocessed top 30 keywords"
   ]
  },
  {
   "cell_type": "code",
   "execution_count": 15,
   "metadata": {
    "id": "50b7zGjvE31-"
   },
   "outputs": [],
   "source": [
    "df['Body preprocessed top 30 keywords TF-IDF vector'] = df['Body preprocessed top 30 keywords'].apply(lambda x: tfidf_body_vectorizer.transform([x]))"
   ]
  },
  {
   "cell_type": "markdown",
   "metadata": {
    "id": "RuzwF39xDRJA"
   },
   "source": [
    "# Build Inverted Index for title"
   ]
  },
  {
   "cell_type": "code",
   "execution_count": 16,
   "metadata": {
    "id": "VEYKxkt3DSGd"
   },
   "outputs": [],
   "source": [
    "from collections import defaultdict\n",
    "\n",
    "def build_inverted_index(data: list) -> list:\n",
    "    inverted_index = defaultdict(list)\n",
    "    rows = len(data)\n",
    "    for idx in range(1, rows):\n",
    "        sample = df.iloc[idx]\n",
    "        union = sample['Title']\n",
    "        for word in set(union.split()):\n",
    "            inverted_index[word].append(sample.Id)\n",
    "    return inverted_index\n",
    "\n",
    "title_inverted_index = build_inverted_index(df['Title preprocessed top 10 keywords'])\n",
    "pickle.dump(title_inverted_index, open('data/title_inverted_index.sav', 'wb'))"
   ]
  },
  {
   "cell_type": "markdown",
   "metadata": {
    "id": "vrSxpddCDVny"
   },
   "source": [
    "# Build Inverted Index for body"
   ]
  },
  {
   "cell_type": "code",
   "execution_count": 17,
   "metadata": {
    "id": "JFTAAzBRDWcC"
   },
   "outputs": [],
   "source": [
    "body_inverted_index = build_inverted_index(df['Body preprocessed top 30 keywords'])\n",
    "pickle.dump(body_inverted_index, open('data/body_inverted_index.sav', 'wb'))"
   ]
  },
  {
   "cell_type": "markdown",
   "metadata": {
    "id": "qV0y8xMyICli"
   },
   "source": [
    "# Clear not needed cols"
   ]
  },
  {
   "cell_type": "code",
   "execution_count": 18,
   "metadata": {
    "id": "WxE3715eIEAK"
   },
   "outputs": [],
   "source": [
    "df.drop(columns=['CreationDate', 'timestamp', 'Score', 'Title preprocessed', 'Body preprocessed',\n",
    "                 'Title preprocessed top 10 keywords', 'Body preprocessed top 30 keywords'], inplace=True)"
   ]
  },
  {
   "cell_type": "markdown",
   "metadata": {
    "id": "n2PEKGXr4Tlm"
   },
   "source": [
    "# Look at the final dataset"
   ]
  },
  {
   "cell_type": "code",
   "execution_count": 19,
   "metadata": {
    "colab": {
     "base_uri": "https://localhost:8080/",
     "height": 728
    },
    "id": "z-HK9-a-j5Fo",
    "outputId": "fd09367f-ae8a-4e28-85a6-2d80ae28e922"
   },
   "outputs": [
    {
     "data": {
      "text/html": [
       "<div>\n",
       "<style scoped>\n",
       "    .dataframe tbody tr th:only-of-type {\n",
       "        vertical-align: middle;\n",
       "    }\n",
       "\n",
       "    .dataframe tbody tr th {\n",
       "        vertical-align: top;\n",
       "    }\n",
       "\n",
       "    .dataframe thead th {\n",
       "        text-align: right;\n",
       "    }\n",
       "</style>\n",
       "<table border=\"1\" class=\"dataframe\">\n",
       "  <thead>\n",
       "    <tr style=\"text-align: right;\">\n",
       "      <th></th>\n",
       "      <th>Id</th>\n",
       "      <th>Title</th>\n",
       "      <th>Body</th>\n",
       "      <th>Date score</th>\n",
       "      <th>Votes score</th>\n",
       "      <th>Title preprocessed top 10 keywords TF-IDF vector</th>\n",
       "      <th>Body preprocessed top 30 keywords TF-IDF vector</th>\n",
       "    </tr>\n",
       "  </thead>\n",
       "  <tbody>\n",
       "    <tr>\n",
       "      <th>0</th>\n",
       "      <td>80</td>\n",
       "      <td>SQLStatement.execute() - multiple queries in o...</td>\n",
       "      <td>&lt;p&gt;I've written a database generation script i...</td>\n",
       "      <td>1.000000</td>\n",
       "      <td>1.007471</td>\n",
       "      <td>(0, 1525)\\t0.545568960255437\\n  (0, 1252)\\t0...</td>\n",
       "      <td>(0, 6000)\\t0.18721767746160486\\n  (0, 5872)\\...</td>\n",
       "    </tr>\n",
       "    <tr>\n",
       "      <th>1</th>\n",
       "      <td>90</td>\n",
       "      <td>Good branching and merging tutorials for Torto...</td>\n",
       "      <td>&lt;p&gt;Are there any really good tutorials explain...</td>\n",
       "      <td>1.000654</td>\n",
       "      <td>1.040122</td>\n",
       "      <td>(0, 1657)\\t0.4645992913411124\\n  (0, 1634)\\t...</td>\n",
       "      <td>(0, 5555)\\t0.2984741322522839\\n  (0, 5459)\\t...</td>\n",
       "    </tr>\n",
       "    <tr>\n",
       "      <th>2</th>\n",
       "      <td>120</td>\n",
       "      <td>ASP.NET Site Maps</td>\n",
       "      <td>&lt;p&gt;Has anyone got experience creating &lt;strong&gt;...</td>\n",
       "      <td>1.001669</td>\n",
       "      <td>1.006087</td>\n",
       "      <td>(0, 1463)\\t0.6453861598243792\\n  (0, 953)\\t0...</td>\n",
       "      <td>(0, 6021)\\t0.1945865463080687\\n  (0, 5969)\\t...</td>\n",
       "    </tr>\n",
       "    <tr>\n",
       "      <th>3</th>\n",
       "      <td>180</td>\n",
       "      <td>Function for creating color wheels</td>\n",
       "      <td>&lt;p&gt;This is something I've pseudo-solved many t...</td>\n",
       "      <td>1.004212</td>\n",
       "      <td>1.014942</td>\n",
       "      <td>(0, 1753)\\t0.5672717530973374\\n  (0, 646)\\t0...</td>\n",
       "      <td>(0, 5872)\\t0.12920224898559082\\n  (0, 5407)\\...</td>\n",
       "    </tr>\n",
       "    <tr>\n",
       "      <th>4</th>\n",
       "      <td>260</td>\n",
       "      <td>Adding scripting functionality to .NET applica...</td>\n",
       "      <td>&lt;p&gt;I have a little game written in C#. It uses...</td>\n",
       "      <td>1.008345</td>\n",
       "      <td>1.013835</td>\n",
       "      <td>(0, 1404)\\t0.5559771794705758\\n  (0, 648)\\t0...</td>\n",
       "      <td>(0, 5856)\\t0.1724361322794553\\n  (0, 5485)\\t...</td>\n",
       "    </tr>\n",
       "    <tr>\n",
       "      <th>...</th>\n",
       "      <td>...</td>\n",
       "      <td>...</td>\n",
       "      <td>...</td>\n",
       "      <td>...</td>\n",
       "      <td>...</td>\n",
       "      <td>...</td>\n",
       "      <td>...</td>\n",
       "    </tr>\n",
       "    <tr>\n",
       "      <th>995</th>\n",
       "      <td>83260</td>\n",
       "      <td>How can I get the unique values of an array in...</td>\n",
       "      <td>&lt;p&gt;Say I've got this array:\\nMyArray(0)=\"aaa\"\\...</td>\n",
       "      <td>1.999268</td>\n",
       "      <td>1.001107</td>\n",
       "      <td>(0, 1704)\\t0.4837082224165316\\n  (0, 1672)\\t...</td>\n",
       "      <td>(0, 5986)\\t0.1200227629525307\\n  (0, 5740)\\t...</td>\n",
       "    </tr>\n",
       "    <tr>\n",
       "      <th>996</th>\n",
       "      <td>83320</td>\n",
       "      <td>What is the difference between TrueType fonts ...</td>\n",
       "      <td>&lt;p&gt;What is the difference between TrueType fon...</td>\n",
       "      <td>1.999349</td>\n",
       "      <td>1.003874</td>\n",
       "      <td>(0, 1650)\\t0.6381218024803684\\n  (0, 626)\\t0...</td>\n",
       "      <td>(0, 5534)\\t0.6963856017965144\\n  (0, 2138)\\t...</td>\n",
       "    </tr>\n",
       "    <tr>\n",
       "      <th>997</th>\n",
       "      <td>83410</td>\n",
       "      <td>How do I call a SQL Server stored procedure fr...</td>\n",
       "      <td>&lt;p&gt;I have a large CSV file and I want to execu...</td>\n",
       "      <td>1.999469</td>\n",
       "      <td>1.007471</td>\n",
       "      <td>(0, 1536)\\t0.4541596470287601\\n  (0, 1510)\\t...</td>\n",
       "      <td>(0, 5872)\\t0.15164468295753483\\n  (0, 5855)\\...</td>\n",
       "    </tr>\n",
       "    <tr>\n",
       "      <th>998</th>\n",
       "      <td>83640</td>\n",
       "      <td>C++ does begin/end/rbegin/rend execute in cons...</td>\n",
       "      <td>&lt;p&gt;For data types such as std::set and std::ma...</td>\n",
       "      <td>1.999778</td>\n",
       "      <td>1.001107</td>\n",
       "      <td>(0, 1622)\\t0.3978818809204913\\n  (0, 1529)\\t...</td>\n",
       "      <td>(0, 5969)\\t0.11671257573527914\\n  (0, 5564)\\...</td>\n",
       "    </tr>\n",
       "    <tr>\n",
       "      <th>999</th>\n",
       "      <td>83770</td>\n",
       "      <td>Dynamically add CalendarExtender to Textbox su...</td>\n",
       "      <td>&lt;p&gt;I'm trying to create a server control, whic...</td>\n",
       "      <td>2.000000</td>\n",
       "      <td>1.000830</td>\n",
       "      <td>(0, 1608)\\t0.4473344134329182\\n  (0, 1550)\\t...</td>\n",
       "      <td>(0, 5541)\\t0.12745222558427147\\n  (0, 5521)\\...</td>\n",
       "    </tr>\n",
       "  </tbody>\n",
       "</table>\n",
       "<p>1000 rows × 7 columns</p>\n",
       "</div>"
      ],
      "text/plain": [
       "        Id                                              Title  \\\n",
       "0       80  SQLStatement.execute() - multiple queries in o...   \n",
       "1       90  Good branching and merging tutorials for Torto...   \n",
       "2      120                                  ASP.NET Site Maps   \n",
       "3      180                 Function for creating color wheels   \n",
       "4      260  Adding scripting functionality to .NET applica...   \n",
       "..     ...                                                ...   \n",
       "995  83260  How can I get the unique values of an array in...   \n",
       "996  83320  What is the difference between TrueType fonts ...   \n",
       "997  83410  How do I call a SQL Server stored procedure fr...   \n",
       "998  83640  C++ does begin/end/rbegin/rend execute in cons...   \n",
       "999  83770  Dynamically add CalendarExtender to Textbox su...   \n",
       "\n",
       "                                                  Body  Date score  \\\n",
       "0    <p>I've written a database generation script i...    1.000000   \n",
       "1    <p>Are there any really good tutorials explain...    1.000654   \n",
       "2    <p>Has anyone got experience creating <strong>...    1.001669   \n",
       "3    <p>This is something I've pseudo-solved many t...    1.004212   \n",
       "4    <p>I have a little game written in C#. It uses...    1.008345   \n",
       "..                                                 ...         ...   \n",
       "995  <p>Say I've got this array:\\nMyArray(0)=\"aaa\"\\...    1.999268   \n",
       "996  <p>What is the difference between TrueType fon...    1.999349   \n",
       "997  <p>I have a large CSV file and I want to execu...    1.999469   \n",
       "998  <p>For data types such as std::set and std::ma...    1.999778   \n",
       "999  <p>I'm trying to create a server control, whic...    2.000000   \n",
       "\n",
       "     Votes score   Title preprocessed top 10 keywords TF-IDF vector  \\\n",
       "0       1.007471    (0, 1525)\\t0.545568960255437\\n  (0, 1252)\\t0...   \n",
       "1       1.040122    (0, 1657)\\t0.4645992913411124\\n  (0, 1634)\\t...   \n",
       "2       1.006087    (0, 1463)\\t0.6453861598243792\\n  (0, 953)\\t0...   \n",
       "3       1.014942    (0, 1753)\\t0.5672717530973374\\n  (0, 646)\\t0...   \n",
       "4       1.013835    (0, 1404)\\t0.5559771794705758\\n  (0, 648)\\t0...   \n",
       "..           ...                                                ...   \n",
       "995     1.001107    (0, 1704)\\t0.4837082224165316\\n  (0, 1672)\\t...   \n",
       "996     1.003874    (0, 1650)\\t0.6381218024803684\\n  (0, 626)\\t0...   \n",
       "997     1.007471    (0, 1536)\\t0.4541596470287601\\n  (0, 1510)\\t...   \n",
       "998     1.001107    (0, 1622)\\t0.3978818809204913\\n  (0, 1529)\\t...   \n",
       "999     1.000830    (0, 1608)\\t0.4473344134329182\\n  (0, 1550)\\t...   \n",
       "\n",
       "       Body preprocessed top 30 keywords TF-IDF vector  \n",
       "0      (0, 6000)\\t0.18721767746160486\\n  (0, 5872)\\...  \n",
       "1      (0, 5555)\\t0.2984741322522839\\n  (0, 5459)\\t...  \n",
       "2      (0, 6021)\\t0.1945865463080687\\n  (0, 5969)\\t...  \n",
       "3      (0, 5872)\\t0.12920224898559082\\n  (0, 5407)\\...  \n",
       "4      (0, 5856)\\t0.1724361322794553\\n  (0, 5485)\\t...  \n",
       "..                                                 ...  \n",
       "995    (0, 5986)\\t0.1200227629525307\\n  (0, 5740)\\t...  \n",
       "996    (0, 5534)\\t0.6963856017965144\\n  (0, 2138)\\t...  \n",
       "997    (0, 5872)\\t0.15164468295753483\\n  (0, 5855)\\...  \n",
       "998    (0, 5969)\\t0.11671257573527914\\n  (0, 5564)\\...  \n",
       "999    (0, 5541)\\t0.12745222558427147\\n  (0, 5521)\\...  \n",
       "\n",
       "[1000 rows x 7 columns]"
      ]
     },
     "execution_count": 19,
     "metadata": {},
     "output_type": "execute_result"
    }
   ],
   "source": [
    "df"
   ]
  },
  {
   "cell_type": "markdown",
   "metadata": {
    "id": "hhxZ2BVIC3dy"
   },
   "source": [
    "# Save preprocessed dataset"
   ]
  },
  {
   "cell_type": "code",
   "execution_count": 20,
   "metadata": {
    "id": "fV7qSWwqCv87"
   },
   "outputs": [],
   "source": [
    "pickle.dump(df, open('data/Preprocessed Questions.sav', 'wb'))"
   ]
  }
 ],
 "metadata": {
  "colab": {
   "collapsed_sections": [],
   "machine_shape": "hm",
   "name": "preprocessing.ipynb",
   "provenance": []
  },
  "kernelspec": {
   "display_name": "Python 3 (ipykernel)",
   "language": "python",
   "name": "python3"
  },
  "language_info": {
   "codemirror_mode": {
    "name": "ipython",
    "version": 3
   },
   "file_extension": ".py",
   "mimetype": "text/x-python",
   "name": "python",
   "nbconvert_exporter": "python",
   "pygments_lexer": "ipython3",
   "version": "3.9.7"
  }
 },
 "nbformat": 4,
 "nbformat_minor": 1
}
